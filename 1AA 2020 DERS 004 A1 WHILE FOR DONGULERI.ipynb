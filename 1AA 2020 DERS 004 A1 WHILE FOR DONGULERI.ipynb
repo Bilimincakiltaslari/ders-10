{
 "cells": [
  {
   "cell_type": "code",
   "execution_count": null,
   "metadata": {},
   "outputs": [],
   "source": [
    "i = 0\n",
    "while (i < 10):\n",
    "    i=i+1\n",
    "    print(\"i= \",i)"
   ]
  },
  {
   "cell_type": "code",
   "execution_count": null,
   "metadata": {},
   "outputs": [],
   "source": [
    "i = 0\n",
    "while (i < 20):\n",
    "    i=i+2\n",
    "    print(\"i= \",i)"
   ]
  },
  {
   "cell_type": "code",
   "execution_count": null,
   "metadata": {},
   "outputs": [],
   "source": [
    "a = 0\n",
    "while (a < 10):\n",
    "    a=a+1\n",
    "    print(a,\" sayısının karesi \",a*a)"
   ]
  },
  {
   "cell_type": "code",
   "execution_count": null,
   "metadata": {},
   "outputs": [],
   "source": [
    "a = 0\n",
    "while (a < 10):\n",
    "    a=a+1\n",
    "    print(\"BİLİMİN ÇAKIL TAŞLARI \")"
   ]
  },
  {
   "cell_type": "code",
   "execution_count": null,
   "metadata": {},
   "outputs": [],
   "source": [
    "liste = [1,2,3,4,5,6]\n",
    "\n",
    "for i in liste :\n",
    "    print(i)"
   ]
  },
  {
   "cell_type": "code",
   "execution_count": null,
   "metadata": {},
   "outputs": [],
   "source": [
    "index = 0\n",
    "liste = [1,2,3,4,5,6]\n",
    "\n",
    "while (index < len(liste)):\n",
    "    print(\"index= \",index,\" iken listenin elemanı\",liste[index],\" dir.\")\n",
    "    index +=1"
   ]
  },
  {
   "cell_type": "code",
   "execution_count": null,
   "metadata": {},
   "outputs": [],
   "source": [
    "print(*range(0,17))"
   ]
  },
  {
   "cell_type": "code",
   "execution_count": null,
   "metadata": {},
   "outputs": [],
   "source": [
    "print(*range(1,100,2))"
   ]
  },
  {
   "cell_type": "code",
   "execution_count": null,
   "metadata": {},
   "outputs": [],
   "source": [
    "print(*range(20,0,-1))"
   ]
  },
  {
   "cell_type": "code",
   "execution_count": null,
   "metadata": {},
   "outputs": [],
   "source": [
    "for i in range(1,21):\n",
    "    print(i)"
   ]
  },
  {
   "cell_type": "code",
   "execution_count": null,
   "metadata": {},
   "outputs": [],
   "source": [
    "for i in range(1,21):\n",
    "    print(\"*\"*i)"
   ]
  },
  {
   "cell_type": "code",
   "execution_count": null,
   "metadata": {},
   "outputs": [],
   "source": [
    "i = 0\n",
    "while (i < 10):\n",
    "    if (i == 6):\n",
    "        break\n",
    "    i=i+1\n",
    "    print(\"i= \",i)"
   ]
  },
  {
   "cell_type": "code",
   "execution_count": null,
   "metadata": {},
   "outputs": [],
   "source": [
    "while True:\n",
    "    ad=input(\"isminizi giriniz çıkış için ç ye basın\")\n",
    "    if ad==(\"ç\") or ad==(\"Ç\"):\n",
    "        print(\"**********\\n**********\\nprogramdan çıkılıyor\\n**********\\n**********\\n\")\n",
    "        break\n",
    "    print(ad)\n",
    "    "
   ]
  },
  {
   "cell_type": "code",
   "execution_count": null,
   "metadata": {},
   "outputs": [
    {
     "name": "stdout",
     "output_type": "stream",
     "text": [
      "çıkış için isim yerine çık yazın\n"
     ]
    }
   ],
   "source": [
    "i=0\n",
    "liste=[]\n",
    "print(\"çıkış için isim yerine çık yazın\")\n",
    "while True:\n",
    "    i=i+1\n",
    "    ad=input(\"isminizi giriniz\")\n",
    "    liste.append(ad)\n",
    "    if (ad==\"çık\"):\n",
    "        print (\"isimler yazdırılıyor....\")\n",
    "        liste.pop()\n",
    "        print(\"*\"*len(liste)*10)\n",
    "        print(\"*\",liste,\"*\")\n",
    "        print(\"*\"*len(liste)*10)\n",
    "        break"
   ]
  },
  {
   "cell_type": "code",
   "execution_count": null,
   "metadata": {},
   "outputs": [],
   "source": [
    "liste = list(range(11))\n",
    "liste"
   ]
  },
  {
   "cell_type": "code",
   "execution_count": null,
   "metadata": {},
   "outputs": [],
   "source": [
    "for i in liste:\n",
    "    print(\"i= \",i)"
   ]
  },
  {
   "cell_type": "code",
   "execution_count": null,
   "metadata": {},
   "outputs": [],
   "source": [
    "for i in liste:\n",
    "    if (i==3 or i==6 or i==9):\n",
    "        continue\n",
    "    print(\"i= \",i)"
   ]
  },
  {
   "cell_type": "code",
   "execution_count": null,
   "metadata": {},
   "outputs": [],
   "source": [
    "for i in liste:\n",
    "    if (i%3==0):\n",
    "        continue\n",
    "    print(\"i= \",i)"
   ]
  },
  {
   "cell_type": "code",
   "execution_count": null,
   "metadata": {},
   "outputs": [],
   "source": []
  }
 ],
 "metadata": {
  "kernelspec": {
   "display_name": "Python 3",
   "language": "python",
   "name": "python3"
  },
  "language_info": {
   "codemirror_mode": {
    "name": "ipython",
    "version": 3
   },
   "file_extension": ".py",
   "mimetype": "text/x-python",
   "name": "python",
   "nbconvert_exporter": "python",
   "pygments_lexer": "ipython3",
   "version": "3.7.3"
  }
 },
 "nbformat": 4,
 "nbformat_minor": 2
}
